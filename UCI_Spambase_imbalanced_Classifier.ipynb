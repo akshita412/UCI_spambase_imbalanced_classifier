{
 "cells": [
  {
   "cell_type": "code",
   "execution_count": 1,
   "id": "c4012ee2-7c0f-488c-855e-53aca9ebc442",
   "metadata": {},
   "outputs": [],
   "source": [
    "import warnings\n",
    "warnings.filterwarnings(\"ignore\")"
   ]
  },
  {
   "cell_type": "markdown",
   "id": "08385b15-acac-4c43-9aa9-45fe28a2cbc3",
   "metadata": {},
   "source": [
    "### Import libraries"
   ]
  },
  {
   "cell_type": "code",
   "execution_count": 27,
   "id": "2332e157-bb85-40a0-892e-75e589f0ec34",
   "metadata": {},
   "outputs": [],
   "source": [
    "import numpy as np\n",
    "import pandas as pd\n",
    "from sklearn import neighbors, tree, linear_model\n",
    "from sklearn.model_selection import cross_val_score, train_test_split\n",
    "from sklearn.metrics import accuracy_score\n",
    "from sklearn.model_selection import train_test_split\n",
    "from sklearn.preprocessing import MinMaxScaler\n",
    "from sklearn.model_selection import GridSearchCV, KFold\n",
    "from sklearn import metrics\n",
    "from sklearn.linear_model import LinearRegression\n",
    "import lightgbm as ltb\n",
    "from xgboost import XGBRegressor, DMatrix\n",
    "from sklearn.model_selection import RepeatedStratifiedKFold\n",
    "from sklearn.model_selection import KFold\n",
    "from sklearn.model_selection import cross_val_score\n",
    "from sklearn.linear_model import LinearRegression\n",
    "from sklearn.linear_model import Lasso\n",
    "from sklearn.linear_model import ElasticNet\n",
    "from sklearn.tree import DecisionTreeRegressor\n",
    "from sklearn.neighbors import KNeighborsRegressor\n",
    "from sklearn.svm import SVR\n",
    "from sklearn.ensemble import AdaBoostRegressor\n",
    "from sklearn.ensemble import GradientBoostingRegressor\n",
    "from sklearn.ensemble import RandomForestRegressor\n",
    "from sklearn.ensemble import ExtraTreesRegressor\n",
    "from sklearn.metrics import mean_squared_error\n",
    "from sklearn.svm import SVC\n",
    "from sklearn.metrics import roc_curve\n",
    "from sklearn.neighbors import KNeighborsClassifier\n",
    "from sklearn.metrics import matthews_corrcoef\n",
    "from sklearn.metrics import cohen_kappa_score\n",
    "from sklearn.metrics import f1_score\n",
    "from sklearn.metrics import precision_score\n",
    "from sklearn.metrics import recall_score\n",
    "from sklearn.metrics import confusion_matrix\n",
    "from sklearn.metrics import roc_auc_score\n",
    "\n",
    "import numpy as np\n",
    "import keras\n",
    "from keras.models import Sequential\n",
    "from keras.layers import Dense\n",
    "from keras.wrappers.scikit_learn import KerasRegressor\n",
    "\n",
    "\n",
    "### Libraries for visualization\n",
    "import plotly.express as px\n",
    "import plotly.graph_objects as go\n",
    "import matplotlib.pyplot as plt\n",
    "from matplotlib.colors import ListedColormap\n",
    "import seaborn as sns"
   ]
  },
  {
   "cell_type": "code",
   "execution_count": 135,
   "id": "57ec3444-9666-456e-8627-47c2d45f08e4",
   "metadata": {},
   "outputs": [
    {
     "name": "stdout",
     "output_type": "stream",
     "text": [
      "C:\\Users\\akshi\\Documents\\Semesters\\Semester2\\Predictive Analytics\\Week7_10\n"
     ]
    }
   ],
   "source": [
    "cd .."
   ]
  },
  {
   "cell_type": "code",
   "execution_count": 3,
   "id": "cb5f92d3-c15d-471b-8715-777c46f3c822",
   "metadata": {},
   "outputs": [],
   "source": [
    "column_names=['word_freq_make','word_freq_address','word_freq_all','word_freq_3d','word_freq_our',\n",
    "              'word_freq_over','word_freq_remove','word_freq_internet','word_freq_order','word_freq_mail',\n",
    "              'word_freq_receive','word_freq_will','word_freq_people','word_freq_report','word_freq_addresses',\n",
    "              'word_freq_free','word_freq_business','word_freq_email','word_freq_you','word_freq_credit',\n",
    "              'word_freq_your','word_freq_font','word_freq_000','word_freq_money','word_freq_hp','word_freq_hpl',\n",
    "              'word_freq_george','word_freq_650','word_freq_lab','word_freq_labs','word_freq_telnet','word_freq_857',\n",
    "              'word_freq_data','word_freq_415','word_freq_85','word_freq_technology','word_freq_1999',\n",
    "              'word_freq_parts','word_freq_pm','word_freq_direct','word_freq_cs','word_freq_meeting',\n",
    "              'word_freq_original','word_freq_project','word_freq_re','word_freq_edu','word_freq_table',\n",
    "              'word_freq_conference','char_freq_;','char_freq_(','char_freq_[','char_freq_!','char_freq_$','char_freq_#',\n",
    "              'capital_run_length_average','capital_run_length_longest','capital_run_length_total','spam_flag'\n",
    "]"
   ]
  },
  {
   "cell_type": "code",
   "execution_count": 4,
   "id": "6c2d7926-7e3a-4612-99a0-5155601a5c63",
   "metadata": {},
   "outputs": [
    {
     "data": {
      "text/html": [
       "<div><div id=af45af24-c661-4a70-8c9c-cd386f8ef295 style=\"display:none; background-color:#9D6CFF; color:white; width:200px; height:30px; padding-left:5px; border-radius:4px; flex-direction:row; justify-content:space-around; align-items:center;\" onmouseover=\"this.style.backgroundColor='#BA9BF8'\" onmouseout=\"this.style.backgroundColor='#9D6CFF'\" onclick=\"window.commands?.execute('create-mitosheet-from-dataframe-output');\">See Full Dataframe in Mito</div> <script> if (window.commands.hasCommand('create-mitosheet-from-dataframe-output')) document.getElementById('af45af24-c661-4a70-8c9c-cd386f8ef295').style.display = 'flex' </script> <table border=\"1\" class=\"dataframe\">\n",
       "  <thead>\n",
       "    <tr style=\"text-align: right;\">\n",
       "      <th></th>\n",
       "      <th>word_freq_make</th>\n",
       "      <th>word_freq_address</th>\n",
       "      <th>word_freq_all</th>\n",
       "      <th>word_freq_3d</th>\n",
       "      <th>word_freq_our</th>\n",
       "      <th>word_freq_over</th>\n",
       "      <th>word_freq_remove</th>\n",
       "      <th>word_freq_internet</th>\n",
       "      <th>word_freq_order</th>\n",
       "      <th>word_freq_mail</th>\n",
       "      <th>...</th>\n",
       "      <th>char_freq_;</th>\n",
       "      <th>char_freq_(</th>\n",
       "      <th>char_freq_[</th>\n",
       "      <th>char_freq_!</th>\n",
       "      <th>char_freq_$</th>\n",
       "      <th>char_freq_#</th>\n",
       "      <th>capital_run_length_average</th>\n",
       "      <th>capital_run_length_longest</th>\n",
       "      <th>capital_run_length_total</th>\n",
       "      <th>spam_flag</th>\n",
       "    </tr>\n",
       "  </thead>\n",
       "  <tbody>\n",
       "    <tr>\n",
       "      <th>0</th>\n",
       "      <td>0.00</td>\n",
       "      <td>0.64</td>\n",
       "      <td>0.64</td>\n",
       "      <td>0.0</td>\n",
       "      <td>0.32</td>\n",
       "      <td>0.00</td>\n",
       "      <td>0.00</td>\n",
       "      <td>0.00</td>\n",
       "      <td>0.00</td>\n",
       "      <td>0.00</td>\n",
       "      <td>...</td>\n",
       "      <td>0.00</td>\n",
       "      <td>0.000</td>\n",
       "      <td>0.0</td>\n",
       "      <td>0.778</td>\n",
       "      <td>0.000</td>\n",
       "      <td>0.000</td>\n",
       "      <td>3.756</td>\n",
       "      <td>61</td>\n",
       "      <td>278</td>\n",
       "      <td>1</td>\n",
       "    </tr>\n",
       "    <tr>\n",
       "      <th>1</th>\n",
       "      <td>0.21</td>\n",
       "      <td>0.28</td>\n",
       "      <td>0.50</td>\n",
       "      <td>0.0</td>\n",
       "      <td>0.14</td>\n",
       "      <td>0.28</td>\n",
       "      <td>0.21</td>\n",
       "      <td>0.07</td>\n",
       "      <td>0.00</td>\n",
       "      <td>0.94</td>\n",
       "      <td>...</td>\n",
       "      <td>0.00</td>\n",
       "      <td>0.132</td>\n",
       "      <td>0.0</td>\n",
       "      <td>0.372</td>\n",
       "      <td>0.180</td>\n",
       "      <td>0.048</td>\n",
       "      <td>5.114</td>\n",
       "      <td>101</td>\n",
       "      <td>1028</td>\n",
       "      <td>1</td>\n",
       "    </tr>\n",
       "    <tr>\n",
       "      <th>2</th>\n",
       "      <td>0.06</td>\n",
       "      <td>0.00</td>\n",
       "      <td>0.71</td>\n",
       "      <td>0.0</td>\n",
       "      <td>1.23</td>\n",
       "      <td>0.19</td>\n",
       "      <td>0.19</td>\n",
       "      <td>0.12</td>\n",
       "      <td>0.64</td>\n",
       "      <td>0.25</td>\n",
       "      <td>...</td>\n",
       "      <td>0.01</td>\n",
       "      <td>0.143</td>\n",
       "      <td>0.0</td>\n",
       "      <td>0.276</td>\n",
       "      <td>0.184</td>\n",
       "      <td>0.010</td>\n",
       "      <td>9.821</td>\n",
       "      <td>485</td>\n",
       "      <td>2259</td>\n",
       "      <td>1</td>\n",
       "    </tr>\n",
       "    <tr>\n",
       "      <th>3</th>\n",
       "      <td>0.00</td>\n",
       "      <td>0.00</td>\n",
       "      <td>0.00</td>\n",
       "      <td>0.0</td>\n",
       "      <td>0.63</td>\n",
       "      <td>0.00</td>\n",
       "      <td>0.31</td>\n",
       "      <td>0.63</td>\n",
       "      <td>0.31</td>\n",
       "      <td>0.63</td>\n",
       "      <td>...</td>\n",
       "      <td>0.00</td>\n",
       "      <td>0.137</td>\n",
       "      <td>0.0</td>\n",
       "      <td>0.137</td>\n",
       "      <td>0.000</td>\n",
       "      <td>0.000</td>\n",
       "      <td>3.537</td>\n",
       "      <td>40</td>\n",
       "      <td>191</td>\n",
       "      <td>1</td>\n",
       "    </tr>\n",
       "    <tr>\n",
       "      <th>4</th>\n",
       "      <td>0.00</td>\n",
       "      <td>0.00</td>\n",
       "      <td>0.00</td>\n",
       "      <td>0.0</td>\n",
       "      <td>0.63</td>\n",
       "      <td>0.00</td>\n",
       "      <td>0.31</td>\n",
       "      <td>0.63</td>\n",
       "      <td>0.31</td>\n",
       "      <td>0.63</td>\n",
       "      <td>...</td>\n",
       "      <td>0.00</td>\n",
       "      <td>0.135</td>\n",
       "      <td>0.0</td>\n",
       "      <td>0.135</td>\n",
       "      <td>0.000</td>\n",
       "      <td>0.000</td>\n",
       "      <td>3.537</td>\n",
       "      <td>40</td>\n",
       "      <td>191</td>\n",
       "      <td>1</td>\n",
       "    </tr>\n",
       "  </tbody>\n",
       "</table></div>"
      ],
      "text/plain": [
       "   word_freq_make  word_freq_address  word_freq_all  word_freq_3d  \\\n",
       "0            0.00               0.64           0.64           0.0   \n",
       "1            0.21               0.28           0.50           0.0   \n",
       "2            0.06               0.00           0.71           0.0   \n",
       "3            0.00               0.00           0.00           0.0   \n",
       "4            0.00               0.00           0.00           0.0   \n",
       "\n",
       "   word_freq_our  word_freq_over  word_freq_remove  word_freq_internet  \\\n",
       "0           0.32            0.00              0.00                0.00   \n",
       "1           0.14            0.28              0.21                0.07   \n",
       "2           1.23            0.19              0.19                0.12   \n",
       "3           0.63            0.00              0.31                0.63   \n",
       "4           0.63            0.00              0.31                0.63   \n",
       "\n",
       "   word_freq_order  word_freq_mail  ...  char_freq_;  char_freq_(  \\\n",
       "0             0.00            0.00  ...         0.00        0.000   \n",
       "1             0.00            0.94  ...         0.00        0.132   \n",
       "2             0.64            0.25  ...         0.01        0.143   \n",
       "3             0.31            0.63  ...         0.00        0.137   \n",
       "4             0.31            0.63  ...         0.00        0.135   \n",
       "\n",
       "   char_freq_[  char_freq_!  char_freq_$  char_freq_#  \\\n",
       "0          0.0        0.778        0.000        0.000   \n",
       "1          0.0        0.372        0.180        0.048   \n",
       "2          0.0        0.276        0.184        0.010   \n",
       "3          0.0        0.137        0.000        0.000   \n",
       "4          0.0        0.135        0.000        0.000   \n",
       "\n",
       "   capital_run_length_average  capital_run_length_longest  \\\n",
       "0                       3.756                          61   \n",
       "1                       5.114                         101   \n",
       "2                       9.821                         485   \n",
       "3                       3.537                          40   \n",
       "4                       3.537                          40   \n",
       "\n",
       "   capital_run_length_total  spam_flag  \n",
       "0                       278          1  \n",
       "1                      1028          1  \n",
       "2                      2259          1  \n",
       "3                       191          1  \n",
       "4                       191          1  \n",
       "\n",
       "[5 rows x 58 columns]"
      ]
     },
     "metadata": {},
     "output_type": "display_data"
    },
    {
     "name": "stdout",
     "output_type": "stream",
     "text": [
      "(4601, 58)\n",
      "0    2788\n",
      "1    1813\n",
      "Name: spam_flag, dtype: int64\n"
     ]
    }
   ],
   "source": [
    "df=pd.read_csv('spambase.data', index_col= False, names= column_names)\n",
    "display(df.head())\n",
    "print(df.shape)\n",
    "print(df['spam_flag'].value_counts())"
   ]
  },
  {
   "cell_type": "code",
   "execution_count": 5,
   "id": "a744df52-6a40-4a7f-a0ec-ec66f03e8847",
   "metadata": {},
   "outputs": [
    {
     "data": {
      "text/html": [
       "<div><div id=61dcef64-6760-4ec5-ad63-a883dfe4004e style=\"display:none; background-color:#9D6CFF; color:white; width:200px; height:30px; padding-left:5px; border-radius:4px; flex-direction:row; justify-content:space-around; align-items:center;\" onmouseover=\"this.style.backgroundColor='#BA9BF8'\" onmouseout=\"this.style.backgroundColor='#9D6CFF'\" onclick=\"window.commands?.execute('create-mitosheet-from-dataframe-output');\">See Full Dataframe in Mito</div> <script> if (window.commands.hasCommand('create-mitosheet-from-dataframe-output')) document.getElementById('61dcef64-6760-4ec5-ad63-a883dfe4004e').style.display = 'flex' </script> <table border=\"1\" class=\"dataframe\">\n",
       "  <thead>\n",
       "    <tr style=\"text-align: right;\">\n",
       "      <th></th>\n",
       "      <th>word_freq_make</th>\n",
       "      <th>word_freq_address</th>\n",
       "      <th>word_freq_all</th>\n",
       "      <th>word_freq_3d</th>\n",
       "      <th>word_freq_our</th>\n",
       "      <th>word_freq_over</th>\n",
       "      <th>word_freq_remove</th>\n",
       "      <th>word_freq_internet</th>\n",
       "      <th>word_freq_order</th>\n",
       "      <th>word_freq_mail</th>\n",
       "      <th>...</th>\n",
       "      <th>char_freq_;</th>\n",
       "      <th>char_freq_(</th>\n",
       "      <th>char_freq_[</th>\n",
       "      <th>char_freq_!</th>\n",
       "      <th>char_freq_$</th>\n",
       "      <th>char_freq_#</th>\n",
       "      <th>capital_run_length_average</th>\n",
       "      <th>capital_run_length_longest</th>\n",
       "      <th>capital_run_length_total</th>\n",
       "      <th>spam_flag</th>\n",
       "    </tr>\n",
       "  </thead>\n",
       "  <tbody>\n",
       "    <tr>\n",
       "      <th>count</th>\n",
       "      <td>4601.000000</td>\n",
       "      <td>4601.000000</td>\n",
       "      <td>4601.000000</td>\n",
       "      <td>4601.000000</td>\n",
       "      <td>4601.000000</td>\n",
       "      <td>4601.000000</td>\n",
       "      <td>4601.000000</td>\n",
       "      <td>4601.000000</td>\n",
       "      <td>4601.000000</td>\n",
       "      <td>4601.000000</td>\n",
       "      <td>...</td>\n",
       "      <td>4601.000000</td>\n",
       "      <td>4601.000000</td>\n",
       "      <td>4601.000000</td>\n",
       "      <td>4601.000000</td>\n",
       "      <td>4601.000000</td>\n",
       "      <td>4601.000000</td>\n",
       "      <td>4601.000000</td>\n",
       "      <td>4601.000000</td>\n",
       "      <td>4601.000000</td>\n",
       "      <td>4601.000000</td>\n",
       "    </tr>\n",
       "    <tr>\n",
       "      <th>mean</th>\n",
       "      <td>0.104553</td>\n",
       "      <td>0.213015</td>\n",
       "      <td>0.280656</td>\n",
       "      <td>0.065425</td>\n",
       "      <td>0.312223</td>\n",
       "      <td>0.095901</td>\n",
       "      <td>0.114208</td>\n",
       "      <td>0.105295</td>\n",
       "      <td>0.090067</td>\n",
       "      <td>0.239413</td>\n",
       "      <td>...</td>\n",
       "      <td>0.038575</td>\n",
       "      <td>0.139030</td>\n",
       "      <td>0.016976</td>\n",
       "      <td>0.269071</td>\n",
       "      <td>0.075811</td>\n",
       "      <td>0.044238</td>\n",
       "      <td>5.191515</td>\n",
       "      <td>52.172789</td>\n",
       "      <td>283.289285</td>\n",
       "      <td>0.394045</td>\n",
       "    </tr>\n",
       "    <tr>\n",
       "      <th>std</th>\n",
       "      <td>0.305358</td>\n",
       "      <td>1.290575</td>\n",
       "      <td>0.504143</td>\n",
       "      <td>1.395151</td>\n",
       "      <td>0.672513</td>\n",
       "      <td>0.273824</td>\n",
       "      <td>0.391441</td>\n",
       "      <td>0.401071</td>\n",
       "      <td>0.278616</td>\n",
       "      <td>0.644755</td>\n",
       "      <td>...</td>\n",
       "      <td>0.243471</td>\n",
       "      <td>0.270355</td>\n",
       "      <td>0.109394</td>\n",
       "      <td>0.815672</td>\n",
       "      <td>0.245882</td>\n",
       "      <td>0.429342</td>\n",
       "      <td>31.729449</td>\n",
       "      <td>194.891310</td>\n",
       "      <td>606.347851</td>\n",
       "      <td>0.488698</td>\n",
       "    </tr>\n",
       "    <tr>\n",
       "      <th>min</th>\n",
       "      <td>0.000000</td>\n",
       "      <td>0.000000</td>\n",
       "      <td>0.000000</td>\n",
       "      <td>0.000000</td>\n",
       "      <td>0.000000</td>\n",
       "      <td>0.000000</td>\n",
       "      <td>0.000000</td>\n",
       "      <td>0.000000</td>\n",
       "      <td>0.000000</td>\n",
       "      <td>0.000000</td>\n",
       "      <td>...</td>\n",
       "      <td>0.000000</td>\n",
       "      <td>0.000000</td>\n",
       "      <td>0.000000</td>\n",
       "      <td>0.000000</td>\n",
       "      <td>0.000000</td>\n",
       "      <td>0.000000</td>\n",
       "      <td>1.000000</td>\n",
       "      <td>1.000000</td>\n",
       "      <td>1.000000</td>\n",
       "      <td>0.000000</td>\n",
       "    </tr>\n",
       "    <tr>\n",
       "      <th>25%</th>\n",
       "      <td>0.000000</td>\n",
       "      <td>0.000000</td>\n",
       "      <td>0.000000</td>\n",
       "      <td>0.000000</td>\n",
       "      <td>0.000000</td>\n",
       "      <td>0.000000</td>\n",
       "      <td>0.000000</td>\n",
       "      <td>0.000000</td>\n",
       "      <td>0.000000</td>\n",
       "      <td>0.000000</td>\n",
       "      <td>...</td>\n",
       "      <td>0.000000</td>\n",
       "      <td>0.000000</td>\n",
       "      <td>0.000000</td>\n",
       "      <td>0.000000</td>\n",
       "      <td>0.000000</td>\n",
       "      <td>0.000000</td>\n",
       "      <td>1.588000</td>\n",
       "      <td>6.000000</td>\n",
       "      <td>35.000000</td>\n",
       "      <td>0.000000</td>\n",
       "    </tr>\n",
       "    <tr>\n",
       "      <th>50%</th>\n",
       "      <td>0.000000</td>\n",
       "      <td>0.000000</td>\n",
       "      <td>0.000000</td>\n",
       "      <td>0.000000</td>\n",
       "      <td>0.000000</td>\n",
       "      <td>0.000000</td>\n",
       "      <td>0.000000</td>\n",
       "      <td>0.000000</td>\n",
       "      <td>0.000000</td>\n",
       "      <td>0.000000</td>\n",
       "      <td>...</td>\n",
       "      <td>0.000000</td>\n",
       "      <td>0.065000</td>\n",
       "      <td>0.000000</td>\n",
       "      <td>0.000000</td>\n",
       "      <td>0.000000</td>\n",
       "      <td>0.000000</td>\n",
       "      <td>2.276000</td>\n",
       "      <td>15.000000</td>\n",
       "      <td>95.000000</td>\n",
       "      <td>0.000000</td>\n",
       "    </tr>\n",
       "    <tr>\n",
       "      <th>75%</th>\n",
       "      <td>0.000000</td>\n",
       "      <td>0.000000</td>\n",
       "      <td>0.420000</td>\n",
       "      <td>0.000000</td>\n",
       "      <td>0.380000</td>\n",
       "      <td>0.000000</td>\n",
       "      <td>0.000000</td>\n",
       "      <td>0.000000</td>\n",
       "      <td>0.000000</td>\n",
       "      <td>0.160000</td>\n",
       "      <td>...</td>\n",
       "      <td>0.000000</td>\n",
       "      <td>0.188000</td>\n",
       "      <td>0.000000</td>\n",
       "      <td>0.315000</td>\n",
       "      <td>0.052000</td>\n",
       "      <td>0.000000</td>\n",
       "      <td>3.706000</td>\n",
       "      <td>43.000000</td>\n",
       "      <td>266.000000</td>\n",
       "      <td>1.000000</td>\n",
       "    </tr>\n",
       "    <tr>\n",
       "      <th>max</th>\n",
       "      <td>4.540000</td>\n",
       "      <td>14.280000</td>\n",
       "      <td>5.100000</td>\n",
       "      <td>42.810000</td>\n",
       "      <td>10.000000</td>\n",
       "      <td>5.880000</td>\n",
       "      <td>7.270000</td>\n",
       "      <td>11.110000</td>\n",
       "      <td>5.260000</td>\n",
       "      <td>18.180000</td>\n",
       "      <td>...</td>\n",
       "      <td>4.385000</td>\n",
       "      <td>9.752000</td>\n",
       "      <td>4.081000</td>\n",
       "      <td>32.478000</td>\n",
       "      <td>6.003000</td>\n",
       "      <td>19.829000</td>\n",
       "      <td>1102.500000</td>\n",
       "      <td>9989.000000</td>\n",
       "      <td>15841.000000</td>\n",
       "      <td>1.000000</td>\n",
       "    </tr>\n",
       "  </tbody>\n",
       "</table></div>"
      ],
      "text/plain": [
       "       word_freq_make  word_freq_address  word_freq_all  word_freq_3d  \\\n",
       "count     4601.000000        4601.000000    4601.000000   4601.000000   \n",
       "mean         0.104553           0.213015       0.280656      0.065425   \n",
       "std          0.305358           1.290575       0.504143      1.395151   \n",
       "min          0.000000           0.000000       0.000000      0.000000   \n",
       "25%          0.000000           0.000000       0.000000      0.000000   \n",
       "50%          0.000000           0.000000       0.000000      0.000000   \n",
       "75%          0.000000           0.000000       0.420000      0.000000   \n",
       "max          4.540000          14.280000       5.100000     42.810000   \n",
       "\n",
       "       word_freq_our  word_freq_over  word_freq_remove  word_freq_internet  \\\n",
       "count    4601.000000     4601.000000       4601.000000         4601.000000   \n",
       "mean        0.312223        0.095901          0.114208            0.105295   \n",
       "std         0.672513        0.273824          0.391441            0.401071   \n",
       "min         0.000000        0.000000          0.000000            0.000000   \n",
       "25%         0.000000        0.000000          0.000000            0.000000   \n",
       "50%         0.000000        0.000000          0.000000            0.000000   \n",
       "75%         0.380000        0.000000          0.000000            0.000000   \n",
       "max        10.000000        5.880000          7.270000           11.110000   \n",
       "\n",
       "       word_freq_order  word_freq_mail  ...  char_freq_;  char_freq_(  \\\n",
       "count      4601.000000     4601.000000  ...  4601.000000  4601.000000   \n",
       "mean          0.090067        0.239413  ...     0.038575     0.139030   \n",
       "std           0.278616        0.644755  ...     0.243471     0.270355   \n",
       "min           0.000000        0.000000  ...     0.000000     0.000000   \n",
       "25%           0.000000        0.000000  ...     0.000000     0.000000   \n",
       "50%           0.000000        0.000000  ...     0.000000     0.065000   \n",
       "75%           0.000000        0.160000  ...     0.000000     0.188000   \n",
       "max           5.260000       18.180000  ...     4.385000     9.752000   \n",
       "\n",
       "       char_freq_[  char_freq_!  char_freq_$  char_freq_#  \\\n",
       "count  4601.000000  4601.000000  4601.000000  4601.000000   \n",
       "mean      0.016976     0.269071     0.075811     0.044238   \n",
       "std       0.109394     0.815672     0.245882     0.429342   \n",
       "min       0.000000     0.000000     0.000000     0.000000   \n",
       "25%       0.000000     0.000000     0.000000     0.000000   \n",
       "50%       0.000000     0.000000     0.000000     0.000000   \n",
       "75%       0.000000     0.315000     0.052000     0.000000   \n",
       "max       4.081000    32.478000     6.003000    19.829000   \n",
       "\n",
       "       capital_run_length_average  capital_run_length_longest  \\\n",
       "count                 4601.000000                 4601.000000   \n",
       "mean                     5.191515                   52.172789   \n",
       "std                     31.729449                  194.891310   \n",
       "min                      1.000000                    1.000000   \n",
       "25%                      1.588000                    6.000000   \n",
       "50%                      2.276000                   15.000000   \n",
       "75%                      3.706000                   43.000000   \n",
       "max                   1102.500000                 9989.000000   \n",
       "\n",
       "       capital_run_length_total    spam_flag  \n",
       "count               4601.000000  4601.000000  \n",
       "mean                 283.289285     0.394045  \n",
       "std                  606.347851     0.488698  \n",
       "min                    1.000000     0.000000  \n",
       "25%                   35.000000     0.000000  \n",
       "50%                   95.000000     0.000000  \n",
       "75%                  266.000000     1.000000  \n",
       "max                15841.000000     1.000000  \n",
       "\n",
       "[8 rows x 58 columns]"
      ]
     },
     "execution_count": 5,
     "metadata": {},
     "output_type": "execute_result"
    }
   ],
   "source": [
    "df.describe()"
   ]
  },
  {
   "cell_type": "code",
   "execution_count": 6,
   "id": "5b9c22b6-bca0-40f3-8398-f20c13d89ddd",
   "metadata": {},
   "outputs": [
    {
     "name": "stdout",
     "output_type": "stream",
     "text": [
      "Number of Outliers: 66\n",
      "Number of rows without outliers: 4535\n"
     ]
    }
   ],
   "source": [
    "## Removing outliers and then checking spambase counts\n",
    "from sklearn.ensemble import IsolationForest\n",
    "clf = IsolationForest(max_samples = 100, random_state = 42)\n",
    "clf.fit(df)\n",
    "y_noano = clf.predict(df)\n",
    "y_noano = pd.DataFrame(y_noano, columns = ['Top'])\n",
    "y_noano[y_noano['Top'] == 1].index.values\n",
    "\n",
    "df = df.iloc[y_noano[y_noano['Top'] == 1].index.values]\n",
    "df.reset_index(drop = True, inplace = True)\n",
    "print(\"Number of Outliers:\", y_noano[y_noano['Top'] == -1].shape[0])\n",
    "print(\"Number of rows without outliers:\", df.shape[0])"
   ]
  },
  {
   "cell_type": "code",
   "execution_count": 7,
   "id": "f97bba51-8189-4d28-b98b-b61bff1d62e6",
   "metadata": {},
   "outputs": [
    {
     "name": "stdout",
     "output_type": "stream",
     "text": [
      "0    2722\n",
      "1    1813\n",
      "Name: spam_flag, dtype: int64\n"
     ]
    },
    {
     "data": {
      "text/html": [
       "<div><div id=0362b1e4-d256-4ae6-af57-f96281260c59 style=\"display:none; background-color:#9D6CFF; color:white; width:200px; height:30px; padding-left:5px; border-radius:4px; flex-direction:row; justify-content:space-around; align-items:center;\" onmouseover=\"this.style.backgroundColor='#BA9BF8'\" onmouseout=\"this.style.backgroundColor='#9D6CFF'\" onclick=\"window.commands?.execute('create-mitosheet-from-dataframe-output');\">See Full Dataframe in Mito</div> <script> if (window.commands.hasCommand('create-mitosheet-from-dataframe-output')) document.getElementById('0362b1e4-d256-4ae6-af57-f96281260c59').style.display = 'flex' </script> <table border=\"1\" class=\"dataframe\">\n",
       "  <thead>\n",
       "    <tr style=\"text-align: right;\">\n",
       "      <th></th>\n",
       "      <th>word_freq_make</th>\n",
       "      <th>word_freq_address</th>\n",
       "      <th>word_freq_all</th>\n",
       "      <th>word_freq_3d</th>\n",
       "      <th>word_freq_our</th>\n",
       "      <th>word_freq_over</th>\n",
       "      <th>word_freq_remove</th>\n",
       "      <th>word_freq_internet</th>\n",
       "      <th>word_freq_order</th>\n",
       "      <th>word_freq_mail</th>\n",
       "      <th>...</th>\n",
       "      <th>char_freq_;</th>\n",
       "      <th>char_freq_(</th>\n",
       "      <th>char_freq_[</th>\n",
       "      <th>char_freq_!</th>\n",
       "      <th>char_freq_$</th>\n",
       "      <th>char_freq_#</th>\n",
       "      <th>capital_run_length_average</th>\n",
       "      <th>capital_run_length_longest</th>\n",
       "      <th>capital_run_length_total</th>\n",
       "      <th>spam_flag</th>\n",
       "    </tr>\n",
       "  </thead>\n",
       "  <tbody>\n",
       "    <tr>\n",
       "      <th>count</th>\n",
       "      <td>4535.000000</td>\n",
       "      <td>4535.000000</td>\n",
       "      <td>4535.000000</td>\n",
       "      <td>4535.000000</td>\n",
       "      <td>4535.000000</td>\n",
       "      <td>4535.000000</td>\n",
       "      <td>4535.000000</td>\n",
       "      <td>4535.000000</td>\n",
       "      <td>4535.000000</td>\n",
       "      <td>4535.000000</td>\n",
       "      <td>...</td>\n",
       "      <td>4535.000000</td>\n",
       "      <td>4535.000000</td>\n",
       "      <td>4535.000000</td>\n",
       "      <td>4535.000000</td>\n",
       "      <td>4535.000000</td>\n",
       "      <td>4535.000000</td>\n",
       "      <td>4535.000000</td>\n",
       "      <td>4535.000000</td>\n",
       "      <td>4535.000000</td>\n",
       "      <td>4535.000000</td>\n",
       "    </tr>\n",
       "    <tr>\n",
       "      <th>mean</th>\n",
       "      <td>0.105830</td>\n",
       "      <td>0.212809</td>\n",
       "      <td>0.283541</td>\n",
       "      <td>0.066377</td>\n",
       "      <td>0.314536</td>\n",
       "      <td>0.097297</td>\n",
       "      <td>0.115870</td>\n",
       "      <td>0.106351</td>\n",
       "      <td>0.090959</td>\n",
       "      <td>0.237832</td>\n",
       "      <td>...</td>\n",
       "      <td>0.038987</td>\n",
       "      <td>0.130755</td>\n",
       "      <td>0.016377</td>\n",
       "      <td>0.272680</td>\n",
       "      <td>0.076903</td>\n",
       "      <td>0.044730</td>\n",
       "      <td>5.227416</td>\n",
       "      <td>52.751268</td>\n",
       "      <td>286.389416</td>\n",
       "      <td>0.399779</td>\n",
       "    </tr>\n",
       "    <tr>\n",
       "      <th>std</th>\n",
       "      <td>0.306952</td>\n",
       "      <td>1.294934</td>\n",
       "      <td>0.505803</td>\n",
       "      <td>1.405247</td>\n",
       "      <td>0.674589</td>\n",
       "      <td>0.275564</td>\n",
       "      <td>0.394036</td>\n",
       "      <td>0.403134</td>\n",
       "      <td>0.279763</td>\n",
       "      <td>0.644258</td>\n",
       "      <td>...</td>\n",
       "      <td>0.245173</td>\n",
       "      <td>0.260443</td>\n",
       "      <td>0.108829</td>\n",
       "      <td>0.821002</td>\n",
       "      <td>0.247496</td>\n",
       "      <td>0.432403</td>\n",
       "      <td>31.958061</td>\n",
       "      <td>196.244643</td>\n",
       "      <td>610.170308</td>\n",
       "      <td>0.489907</td>\n",
       "    </tr>\n",
       "    <tr>\n",
       "      <th>min</th>\n",
       "      <td>0.000000</td>\n",
       "      <td>0.000000</td>\n",
       "      <td>0.000000</td>\n",
       "      <td>0.000000</td>\n",
       "      <td>0.000000</td>\n",
       "      <td>0.000000</td>\n",
       "      <td>0.000000</td>\n",
       "      <td>0.000000</td>\n",
       "      <td>0.000000</td>\n",
       "      <td>0.000000</td>\n",
       "      <td>...</td>\n",
       "      <td>0.000000</td>\n",
       "      <td>0.000000</td>\n",
       "      <td>0.000000</td>\n",
       "      <td>0.000000</td>\n",
       "      <td>0.000000</td>\n",
       "      <td>0.000000</td>\n",
       "      <td>1.000000</td>\n",
       "      <td>1.000000</td>\n",
       "      <td>1.000000</td>\n",
       "      <td>0.000000</td>\n",
       "    </tr>\n",
       "    <tr>\n",
       "      <th>25%</th>\n",
       "      <td>0.000000</td>\n",
       "      <td>0.000000</td>\n",
       "      <td>0.000000</td>\n",
       "      <td>0.000000</td>\n",
       "      <td>0.000000</td>\n",
       "      <td>0.000000</td>\n",
       "      <td>0.000000</td>\n",
       "      <td>0.000000</td>\n",
       "      <td>0.000000</td>\n",
       "      <td>0.000000</td>\n",
       "      <td>...</td>\n",
       "      <td>0.000000</td>\n",
       "      <td>0.000000</td>\n",
       "      <td>0.000000</td>\n",
       "      <td>0.000000</td>\n",
       "      <td>0.000000</td>\n",
       "      <td>0.000000</td>\n",
       "      <td>1.575000</td>\n",
       "      <td>6.000000</td>\n",
       "      <td>35.000000</td>\n",
       "      <td>0.000000</td>\n",
       "    </tr>\n",
       "    <tr>\n",
       "      <th>50%</th>\n",
       "      <td>0.000000</td>\n",
       "      <td>0.000000</td>\n",
       "      <td>0.000000</td>\n",
       "      <td>0.000000</td>\n",
       "      <td>0.000000</td>\n",
       "      <td>0.000000</td>\n",
       "      <td>0.000000</td>\n",
       "      <td>0.000000</td>\n",
       "      <td>0.000000</td>\n",
       "      <td>0.000000</td>\n",
       "      <td>...</td>\n",
       "      <td>0.000000</td>\n",
       "      <td>0.062000</td>\n",
       "      <td>0.000000</td>\n",
       "      <td>0.000000</td>\n",
       "      <td>0.000000</td>\n",
       "      <td>0.000000</td>\n",
       "      <td>2.258000</td>\n",
       "      <td>15.000000</td>\n",
       "      <td>96.000000</td>\n",
       "      <td>0.000000</td>\n",
       "    </tr>\n",
       "    <tr>\n",
       "      <th>75%</th>\n",
       "      <td>0.000000</td>\n",
       "      <td>0.000000</td>\n",
       "      <td>0.425000</td>\n",
       "      <td>0.000000</td>\n",
       "      <td>0.390000</td>\n",
       "      <td>0.000000</td>\n",
       "      <td>0.000000</td>\n",
       "      <td>0.000000</td>\n",
       "      <td>0.000000</td>\n",
       "      <td>0.160000</td>\n",
       "      <td>...</td>\n",
       "      <td>0.000000</td>\n",
       "      <td>0.180500</td>\n",
       "      <td>0.000000</td>\n",
       "      <td>0.325000</td>\n",
       "      <td>0.055000</td>\n",
       "      <td>0.000000</td>\n",
       "      <td>3.731500</td>\n",
       "      <td>44.000000</td>\n",
       "      <td>272.500000</td>\n",
       "      <td>1.000000</td>\n",
       "    </tr>\n",
       "    <tr>\n",
       "      <th>max</th>\n",
       "      <td>4.540000</td>\n",
       "      <td>14.280000</td>\n",
       "      <td>5.100000</td>\n",
       "      <td>42.810000</td>\n",
       "      <td>10.000000</td>\n",
       "      <td>5.880000</td>\n",
       "      <td>7.270000</td>\n",
       "      <td>11.110000</td>\n",
       "      <td>5.260000</td>\n",
       "      <td>18.180000</td>\n",
       "      <td>...</td>\n",
       "      <td>4.385000</td>\n",
       "      <td>9.752000</td>\n",
       "      <td>4.081000</td>\n",
       "      <td>32.478000</td>\n",
       "      <td>6.003000</td>\n",
       "      <td>19.829000</td>\n",
       "      <td>1102.500000</td>\n",
       "      <td>9989.000000</td>\n",
       "      <td>15841.000000</td>\n",
       "      <td>1.000000</td>\n",
       "    </tr>\n",
       "  </tbody>\n",
       "</table></div>"
      ],
      "text/plain": [
       "       word_freq_make  word_freq_address  word_freq_all  word_freq_3d  \\\n",
       "count     4535.000000        4535.000000    4535.000000   4535.000000   \n",
       "mean         0.105830           0.212809       0.283541      0.066377   \n",
       "std          0.306952           1.294934       0.505803      1.405247   \n",
       "min          0.000000           0.000000       0.000000      0.000000   \n",
       "25%          0.000000           0.000000       0.000000      0.000000   \n",
       "50%          0.000000           0.000000       0.000000      0.000000   \n",
       "75%          0.000000           0.000000       0.425000      0.000000   \n",
       "max          4.540000          14.280000       5.100000     42.810000   \n",
       "\n",
       "       word_freq_our  word_freq_over  word_freq_remove  word_freq_internet  \\\n",
       "count    4535.000000     4535.000000       4535.000000         4535.000000   \n",
       "mean        0.314536        0.097297          0.115870            0.106351   \n",
       "std         0.674589        0.275564          0.394036            0.403134   \n",
       "min         0.000000        0.000000          0.000000            0.000000   \n",
       "25%         0.000000        0.000000          0.000000            0.000000   \n",
       "50%         0.000000        0.000000          0.000000            0.000000   \n",
       "75%         0.390000        0.000000          0.000000            0.000000   \n",
       "max        10.000000        5.880000          7.270000           11.110000   \n",
       "\n",
       "       word_freq_order  word_freq_mail  ...  char_freq_;  char_freq_(  \\\n",
       "count      4535.000000     4535.000000  ...  4535.000000  4535.000000   \n",
       "mean          0.090959        0.237832  ...     0.038987     0.130755   \n",
       "std           0.279763        0.644258  ...     0.245173     0.260443   \n",
       "min           0.000000        0.000000  ...     0.000000     0.000000   \n",
       "25%           0.000000        0.000000  ...     0.000000     0.000000   \n",
       "50%           0.000000        0.000000  ...     0.000000     0.062000   \n",
       "75%           0.000000        0.160000  ...     0.000000     0.180500   \n",
       "max           5.260000       18.180000  ...     4.385000     9.752000   \n",
       "\n",
       "       char_freq_[  char_freq_!  char_freq_$  char_freq_#  \\\n",
       "count  4535.000000  4535.000000  4535.000000  4535.000000   \n",
       "mean      0.016377     0.272680     0.076903     0.044730   \n",
       "std       0.108829     0.821002     0.247496     0.432403   \n",
       "min       0.000000     0.000000     0.000000     0.000000   \n",
       "25%       0.000000     0.000000     0.000000     0.000000   \n",
       "50%       0.000000     0.000000     0.000000     0.000000   \n",
       "75%       0.000000     0.325000     0.055000     0.000000   \n",
       "max       4.081000    32.478000     6.003000    19.829000   \n",
       "\n",
       "       capital_run_length_average  capital_run_length_longest  \\\n",
       "count                 4535.000000                 4535.000000   \n",
       "mean                     5.227416                   52.751268   \n",
       "std                     31.958061                  196.244643   \n",
       "min                      1.000000                    1.000000   \n",
       "25%                      1.575000                    6.000000   \n",
       "50%                      2.258000                   15.000000   \n",
       "75%                      3.731500                   44.000000   \n",
       "max                   1102.500000                 9989.000000   \n",
       "\n",
       "       capital_run_length_total    spam_flag  \n",
       "count               4535.000000  4535.000000  \n",
       "mean                 286.389416     0.399779  \n",
       "std                  610.170308     0.489907  \n",
       "min                    1.000000     0.000000  \n",
       "25%                   35.000000     0.000000  \n",
       "50%                   96.000000     0.000000  \n",
       "75%                  272.500000     1.000000  \n",
       "max                15841.000000     1.000000  \n",
       "\n",
       "[8 rows x 58 columns]"
      ]
     },
     "execution_count": 7,
     "metadata": {},
     "output_type": "execute_result"
    }
   ],
   "source": [
    "### Checking distribution of spam and non spam mails\n",
    "print(df['spam_flag'].value_counts())\n",
    "df.describe()"
   ]
  },
  {
   "cell_type": "markdown",
   "id": "adb082c6-85ec-4bb0-be00-545fb99a7783",
   "metadata": {},
   "source": [
    "### Train Logistic Regression Model"
   ]
  },
  {
   "cell_type": "code",
   "execution_count": 8,
   "id": "55d8c385-6d31-42bf-aa46-f8bc96185e7a",
   "metadata": {},
   "outputs": [
    {
     "data": {
      "text/html": [
       "<div><div id=48d5ff6d-4f8c-478a-9cd6-cf8f93d41ffb style=\"display:none; background-color:#9D6CFF; color:white; width:200px; height:30px; padding-left:5px; border-radius:4px; flex-direction:row; justify-content:space-around; align-items:center;\" onmouseover=\"this.style.backgroundColor='#BA9BF8'\" onmouseout=\"this.style.backgroundColor='#9D6CFF'\" onclick=\"window.commands?.execute('create-mitosheet-from-dataframe-output');\">See Full Dataframe in Mito</div> <script> if (window.commands.hasCommand('create-mitosheet-from-dataframe-output')) document.getElementById('48d5ff6d-4f8c-478a-9cd6-cf8f93d41ffb').style.display = 'flex' </script> <table border=\"1\" class=\"dataframe\">\n",
       "  <thead>\n",
       "    <tr style=\"text-align: right;\">\n",
       "      <th></th>\n",
       "      <th>word_freq_make</th>\n",
       "      <th>word_freq_address</th>\n",
       "      <th>word_freq_all</th>\n",
       "      <th>word_freq_3d</th>\n",
       "      <th>word_freq_our</th>\n",
       "      <th>word_freq_over</th>\n",
       "      <th>word_freq_remove</th>\n",
       "      <th>word_freq_internet</th>\n",
       "      <th>word_freq_order</th>\n",
       "      <th>word_freq_mail</th>\n",
       "      <th>...</th>\n",
       "      <th>word_freq_conference</th>\n",
       "      <th>char_freq_;</th>\n",
       "      <th>char_freq_(</th>\n",
       "      <th>char_freq_[</th>\n",
       "      <th>char_freq_!</th>\n",
       "      <th>char_freq_$</th>\n",
       "      <th>char_freq_#</th>\n",
       "      <th>capital_run_length_average</th>\n",
       "      <th>capital_run_length_longest</th>\n",
       "      <th>capital_run_length_total</th>\n",
       "    </tr>\n",
       "  </thead>\n",
       "  <tbody>\n",
       "    <tr>\n",
       "      <th>0</th>\n",
       "      <td>0.00</td>\n",
       "      <td>0.64</td>\n",
       "      <td>0.64</td>\n",
       "      <td>0.0</td>\n",
       "      <td>0.32</td>\n",
       "      <td>0.00</td>\n",
       "      <td>0.00</td>\n",
       "      <td>0.00</td>\n",
       "      <td>0.00</td>\n",
       "      <td>0.00</td>\n",
       "      <td>...</td>\n",
       "      <td>0.0</td>\n",
       "      <td>0.00</td>\n",
       "      <td>0.000</td>\n",
       "      <td>0.0</td>\n",
       "      <td>0.778</td>\n",
       "      <td>0.000</td>\n",
       "      <td>0.000</td>\n",
       "      <td>3.756</td>\n",
       "      <td>61</td>\n",
       "      <td>278</td>\n",
       "    </tr>\n",
       "    <tr>\n",
       "      <th>1</th>\n",
       "      <td>0.21</td>\n",
       "      <td>0.28</td>\n",
       "      <td>0.50</td>\n",
       "      <td>0.0</td>\n",
       "      <td>0.14</td>\n",
       "      <td>0.28</td>\n",
       "      <td>0.21</td>\n",
       "      <td>0.07</td>\n",
       "      <td>0.00</td>\n",
       "      <td>0.94</td>\n",
       "      <td>...</td>\n",
       "      <td>0.0</td>\n",
       "      <td>0.00</td>\n",
       "      <td>0.132</td>\n",
       "      <td>0.0</td>\n",
       "      <td>0.372</td>\n",
       "      <td>0.180</td>\n",
       "      <td>0.048</td>\n",
       "      <td>5.114</td>\n",
       "      <td>101</td>\n",
       "      <td>1028</td>\n",
       "    </tr>\n",
       "    <tr>\n",
       "      <th>2</th>\n",
       "      <td>0.06</td>\n",
       "      <td>0.00</td>\n",
       "      <td>0.71</td>\n",
       "      <td>0.0</td>\n",
       "      <td>1.23</td>\n",
       "      <td>0.19</td>\n",
       "      <td>0.19</td>\n",
       "      <td>0.12</td>\n",
       "      <td>0.64</td>\n",
       "      <td>0.25</td>\n",
       "      <td>...</td>\n",
       "      <td>0.0</td>\n",
       "      <td>0.01</td>\n",
       "      <td>0.143</td>\n",
       "      <td>0.0</td>\n",
       "      <td>0.276</td>\n",
       "      <td>0.184</td>\n",
       "      <td>0.010</td>\n",
       "      <td>9.821</td>\n",
       "      <td>485</td>\n",
       "      <td>2259</td>\n",
       "    </tr>\n",
       "    <tr>\n",
       "      <th>3</th>\n",
       "      <td>0.00</td>\n",
       "      <td>0.00</td>\n",
       "      <td>0.00</td>\n",
       "      <td>0.0</td>\n",
       "      <td>0.63</td>\n",
       "      <td>0.00</td>\n",
       "      <td>0.31</td>\n",
       "      <td>0.63</td>\n",
       "      <td>0.31</td>\n",
       "      <td>0.63</td>\n",
       "      <td>...</td>\n",
       "      <td>0.0</td>\n",
       "      <td>0.00</td>\n",
       "      <td>0.137</td>\n",
       "      <td>0.0</td>\n",
       "      <td>0.137</td>\n",
       "      <td>0.000</td>\n",
       "      <td>0.000</td>\n",
       "      <td>3.537</td>\n",
       "      <td>40</td>\n",
       "      <td>191</td>\n",
       "    </tr>\n",
       "    <tr>\n",
       "      <th>4</th>\n",
       "      <td>0.00</td>\n",
       "      <td>0.00</td>\n",
       "      <td>0.00</td>\n",
       "      <td>0.0</td>\n",
       "      <td>0.63</td>\n",
       "      <td>0.00</td>\n",
       "      <td>0.31</td>\n",
       "      <td>0.63</td>\n",
       "      <td>0.31</td>\n",
       "      <td>0.63</td>\n",
       "      <td>...</td>\n",
       "      <td>0.0</td>\n",
       "      <td>0.00</td>\n",
       "      <td>0.135</td>\n",
       "      <td>0.0</td>\n",
       "      <td>0.135</td>\n",
       "      <td>0.000</td>\n",
       "      <td>0.000</td>\n",
       "      <td>3.537</td>\n",
       "      <td>40</td>\n",
       "      <td>191</td>\n",
       "    </tr>\n",
       "  </tbody>\n",
       "</table></div>"
      ],
      "text/plain": [
       "   word_freq_make  word_freq_address  word_freq_all  word_freq_3d  \\\n",
       "0            0.00               0.64           0.64           0.0   \n",
       "1            0.21               0.28           0.50           0.0   \n",
       "2            0.06               0.00           0.71           0.0   \n",
       "3            0.00               0.00           0.00           0.0   \n",
       "4            0.00               0.00           0.00           0.0   \n",
       "\n",
       "   word_freq_our  word_freq_over  word_freq_remove  word_freq_internet  \\\n",
       "0           0.32            0.00              0.00                0.00   \n",
       "1           0.14            0.28              0.21                0.07   \n",
       "2           1.23            0.19              0.19                0.12   \n",
       "3           0.63            0.00              0.31                0.63   \n",
       "4           0.63            0.00              0.31                0.63   \n",
       "\n",
       "   word_freq_order  word_freq_mail  ...  word_freq_conference  char_freq_;  \\\n",
       "0             0.00            0.00  ...                   0.0         0.00   \n",
       "1             0.00            0.94  ...                   0.0         0.00   \n",
       "2             0.64            0.25  ...                   0.0         0.01   \n",
       "3             0.31            0.63  ...                   0.0         0.00   \n",
       "4             0.31            0.63  ...                   0.0         0.00   \n",
       "\n",
       "   char_freq_(  char_freq_[  char_freq_!  char_freq_$  char_freq_#  \\\n",
       "0        0.000          0.0        0.778        0.000        0.000   \n",
       "1        0.132          0.0        0.372        0.180        0.048   \n",
       "2        0.143          0.0        0.276        0.184        0.010   \n",
       "3        0.137          0.0        0.137        0.000        0.000   \n",
       "4        0.135          0.0        0.135        0.000        0.000   \n",
       "\n",
       "   capital_run_length_average  capital_run_length_longest  \\\n",
       "0                       3.756                          61   \n",
       "1                       5.114                         101   \n",
       "2                       9.821                         485   \n",
       "3                       3.537                          40   \n",
       "4                       3.537                          40   \n",
       "\n",
       "   capital_run_length_total  \n",
       "0                       278  \n",
       "1                      1028  \n",
       "2                      2259  \n",
       "3                       191  \n",
       "4                       191  \n",
       "\n",
       "[5 rows x 57 columns]"
      ]
     },
     "metadata": {},
     "output_type": "display_data"
    },
    {
     "name": "stdout",
     "output_type": "stream",
     "text": [
      "\n",
      " displaying target variable Y: \n"
     ]
    },
    {
     "data": {
      "text/plain": [
       "array([1, 1, 1, 1, 1], dtype=int64)"
      ]
     },
     "execution_count": 8,
     "metadata": {},
     "output_type": "execute_result"
    }
   ],
   "source": [
    "#create a dataframe with all training data except the target column\n",
    "X = df.drop(columns=['spam_flag'])\n",
    "#check that the target variable has been removed\n",
    "display(X.head())\n",
    "\n",
    "#separate target values\n",
    "y = df['spam_flag'].values\n",
    "#view target values\n",
    "print(\"\\n displaying target variable Y: \")\n",
    "y[0:5]"
   ]
  },
  {
   "cell_type": "code",
   "execution_count": 9,
   "id": "d4edcdfd-2ad4-4113-a955-d1dc3e2573ae",
   "metadata": {},
   "outputs": [],
   "source": [
    "#split dataset into train and test data\n",
    "X_train, X_test, y_train, y_test = train_test_split(X, y, test_size=0.3,\n",
    "                                        random_state=1, stratify=y)"
   ]
  },
  {
   "cell_type": "code",
   "execution_count": 10,
   "id": "bdb47192-3ba3-4d3b-b357-8c38efcf39fd",
   "metadata": {},
   "outputs": [
    {
     "name": "stdout",
     "output_type": "stream",
     "text": [
      "(3174, 57) (1361, 57)\n"
     ]
    }
   ],
   "source": [
    "### Scaling the dataset\n",
    "scaler = MinMaxScaler()\n",
    "# transform data\n",
    "X_train_scaled = scaler.fit_transform(X_train)\n",
    "X_test_scaled = scaler.fit_transform(X_test)\n",
    "print(X_train_scaled.shape, X_test_scaled.shape)"
   ]
  },
  {
   "cell_type": "markdown",
   "id": "5694b7db-30cb-4219-a1ea-5481125f9f0e",
   "metadata": {},
   "source": [
    "### KNN Multi class classifier"
   ]
  },
  {
   "cell_type": "code",
   "execution_count": 12,
   "id": "717147c8-675c-49f9-95c1-e2d78fb05419",
   "metadata": {},
   "outputs": [
    {
     "name": "stdout",
     "output_type": "stream",
     "text": [
      "0\n",
      "1\n",
      "2\n"
     ]
    }
   ],
   "source": [
    "### Initializing grid for identifying best paramters\n",
    "grid_params_knn= {'n_neighbors':range(3,10),\n",
    "                  'weights':['uniform','distance'],\n",
    "                  'metric':['euclidean','manhattan','minkowski']}\n",
    "# KNN Classifier\n",
    "model = KNeighborsClassifier()\n",
    "NUM_TRIALS= 3\n",
    "# Arrays to store scores\n",
    "non_nested_scores = np.zeros(NUM_TRIALS)\n",
    "nested_scores = np.zeros(NUM_TRIALS)\n",
    "\n",
    "# Loop for each trial\n",
    "for i in range(NUM_TRIALS):\n",
    "\n",
    "    inner_cv = RepeatedStratifiedKFold(n_splits=3, n_repeats=3, random_state=i)\n",
    "    outer_cv = RepeatedStratifiedKFold(n_splits=3, n_repeats=3, random_state=i)\n",
    "\n",
    "    # Non_nested parameter search and scoring\n",
    "    clf = GridSearchCV(estimator=model, param_grid=grid_params_knn, cv=inner_cv, scoring='accuracy')\n",
    "    clf.fit(X_train_scaled, y_train)\n",
    "    non_nested_scores[i] = clf.best_score_\n",
    "\n",
    "    # Nested CV with parameter optimization\n",
    "    nested_score = cross_val_score(clf, X=X_train_scaled, y=y_train, cv=outer_cv)\n",
    "    nested_scores[i] = nested_score.mean()\n",
    "    print(i)"
   ]
  },
  {
   "cell_type": "code",
   "execution_count": 13,
   "id": "533a5c34-1de5-4564-b217-2ec58096a9be",
   "metadata": {},
   "outputs": [
    {
     "name": "stdout",
     "output_type": "stream",
     "text": [
      "{'metric': 'manhattan', 'n_neighbors': 8, 'weights': 'distance'}\n",
      "Average non_nested_scores 0.904817 and average nested_scores 0.903522.\n",
      "Average difference of 0.001295 with std. dev. of 0.000602.\n"
     ]
    }
   ],
   "source": [
    "### Model performance\n",
    "score_difference = non_nested_scores - nested_scores\n",
    "print(clf.best_params_)\n",
    "print(\"Average non_nested_scores {0:6f} and average nested_scores {1:6f}.\"\n",
    "      .format(non_nested_scores.mean(), nested_scores.mean()))\n",
    "print(\"Average difference of {0:6f} with std. dev. of {1:6f}.\"\n",
    "      .format(score_difference.mean(), score_difference.std()))"
   ]
  },
  {
   "cell_type": "code",
   "execution_count": 14,
   "id": "bebf8429-204a-4c08-9cfb-4f85ff846a50",
   "metadata": {},
   "outputs": [
    {
     "data": {
      "text/plain": [
       "KNeighborsClassifier(metric='manhattan', n_neighbors=8, weights='distance')"
      ]
     },
     "execution_count": 14,
     "metadata": {},
     "output_type": "execute_result"
    }
   ],
   "source": [
    "### Training the model based on hyperparameter tuning by grid search\n",
    "clf_knn = KNeighborsClassifier(metric='manhattan', \n",
    "              n_neighbors=8, \n",
    "              weights='distance')\n",
    "### using standardized data because using regularization\n",
    "clf_knn.fit(X_train_scaled, y_train)"
   ]
  },
  {
   "cell_type": "code",
   "execution_count": 15,
   "id": "4543398a-f19b-460e-ae85-a6c15962a0c6",
   "metadata": {},
   "outputs": [],
   "source": [
    "### Fitting the model on the test data\n",
    "y_test_hat=clf_knn.predict(X_test_scaled) "
   ]
  },
  {
   "cell_type": "code",
   "execution_count": 18,
   "id": "ea39076c-bb5e-454a-8c89-b3ade6579ea2",
   "metadata": {},
   "outputs": [],
   "source": []
  },
  {
   "cell_type": "code",
   "execution_count": 19,
   "id": "8350d404-f5ac-4ffd-abbf-101ff1c66a29",
   "metadata": {},
   "outputs": [
    {
     "name": "stdout",
     "output_type": "stream",
     "text": [
      "Accuracy for the testing dataset with tuning is : 91.26%\n",
      "F-Measure: 0.912\n",
      "Recall: 0.913\n",
      "Precision: 0.913\n",
      "MCC: 0.817\n",
      "Cohen's Kappa Score: 0.815\n",
      "\n",
      "Test confusion_matrix\n",
      "[[778  39]\n",
      " [ 80 464]]\n"
     ]
    },
    {
     "data": {
      "text/plain": [
       "Text(33.0, 0.5, 'True')"
      ]
     },
     "execution_count": 19,
     "metadata": {},
     "output_type": "execute_result"
    },
    {
     "data": {
      "image/png": "[encoded data removed]",
      "text/plain": [
       "<Figure size 432x288 with 2 Axes>"
      ]
     },
     "metadata": {
      "needs_background": "light"
     },
     "output_type": "display_data"
    }
   ],
   "source": [
    "test_accuracy=accuracy_score(y_test,y_test_hat)*100\n",
    "print(\"Accuracy for the testing dataset with tuning is : {:.2f}%\".\n",
    "      format(test_accuracy) )\n",
    "test_fscore = f1_score(y_test, y_test_hat, average='weighted')\n",
    "print('F-Measure: %.3f' % test_fscore)\n",
    "test_recall = recall_score(y_test, y_test_hat, average='weighted')\n",
    "print('Recall: %.3f' % test_recall)\n",
    "test_precision = precision_score(y_test, y_test_hat, average='weighted')\n",
    "print('Precision: %.3f' % test_precision)\n",
    "cf_matrix = confusion_matrix(y_test, y_test_hat)\n",
    "print(\"MCC: %.3f\"% matthews_corrcoef(y_test, y_test_hat))\n",
    "print(\"Cohen's Kappa Score: %.3f\"% cohen_kappa_score(y_test, y_test_hat))\n",
    "print(\"\\nTest confusion_matrix\")\n",
    "print(cf_matrix)\n",
    "sns.heatmap(cf_matrix, cmap='Blues', annot= True)\n",
    "plt.xlabel('Predicted', fontsize=12)\n",
    "plt.ylabel('True', fontsize=12)"
   ]
  },
  {
   "cell_type": "markdown",
   "id": "765476fa-fa38-4d22-94fd-fd3ed7e1ae75",
   "metadata": {},
   "source": [
    "### Cost matrix"
   ]
  },
  {
   "cell_type": "code",
   "execution_count": 54,
   "id": "c5bef281-9812-448b-b054-ed582d7cfa1e",
   "metadata": {},
   "outputs": [
    {
     "data": {
      "text/plain": [
       "Text(0, 0.5, 'Cost')"
      ]
     },
     "execution_count": 54,
     "metadata": {},
     "output_type": "execute_result"
    },
    {
     "data": {
      "image/png": "[encoded data removed]",
      "text/plain": [
       "<Figure size 432x288 with 1 Axes>"
      ]
     },
     "metadata": {
      "needs_background": "light"
     },
     "output_type": "display_data"
    }
   ],
   "source": [
    "## Cost matrix 1\n",
    "predict_probabilities = clf_knn.predict_proba(X_test_scaled)[:,1] ##get prediction probability of label 1 \n",
    "thresholds = np.linspace(0, 1.0, num=21)\n",
    "Cost_List=np.linspace(0, 1.0, num=21)\n",
    "#input cost matrix\n",
    "cost_matrix = np.array([[0, 1], [1, 0]])\n",
    "index=0\n",
    "\n",
    "for t in thresholds:\n",
    "    predict_thre = np.where(predict_probabilities > t, 1, 0)  ##prediction based on the preset threshold\n",
    "    clf_matrix = confusion_matrix(y_test, predict_thre)\n",
    "    Cost_List[index] = clf_matrix[0][0]*cost_matrix[0][0]+clf_matrix[0][1]*cost_matrix[0][1]+clf_matrix[1][0]*cost_matrix[1][0]+clf_matrix[1][1]*cost_matrix[1][1] ##note this only applies to binary classification\n",
    "    index+=1\n",
    "    \n",
    "plt.figure(1)\n",
    "plt.plot(thresholds, Cost_List, 'r--')\n",
    "plt.xlabel(\"thresholds\")\n",
    "plt.ylabel(\"Cost\")"
   ]
  },
  {
   "cell_type": "code",
   "execution_count": 65,
   "id": "abddc2a6-19e5-49af-aa8c-4d3e5a81a681",
   "metadata": {},
   "outputs": [
    {
     "data": {
      "image/png": "[encoded data removed]",
      "text/plain": [
       "<Figure size 432x288 with 1 Axes>"
      ]
     },
     "metadata": {
      "needs_background": "light"
     },
     "output_type": "display_data"
    }
   ],
   "source": [
    "## Cost matrix 2\n",
    "predict_probabilities = clf_knn.predict_proba(X_test_scaled)[:,1] ##get prediction probability of label 1 \n",
    "thresholds = np.linspace(0, 1.0, num=21)\n",
    "Cost_List=np.linspace(0, 1.0, num=21)\n",
    "#input cost matrix\n",
    "cost_matrix = np.array([[0, 1000], [100, -5000]])\n",
    "index=0\n",
    "\n",
    "for t in thresholds:\n",
    "    predict_thre = np.where(predict_probabilities > t, 1, 0)  ##prediction based on the preset threshold\n",
    "    clf_matrix = confusion_matrix(y_test, predict_thre)\n",
    "    Cost_List[index] = clf_matrix[0][0]*cost_matrix[0][0]+clf_matrix[0][1]*cost_matrix[0][1]+clf_matrix[1][0]*cost_matrix[1][0]+clf_matrix[1][1]*cost_matrix[1][1] ##note this only applies to binary classification\n",
    "    index+=1\n",
    "    \n",
    "plt.figure(1)\n",
    "plt.plot(thresholds, Cost_List, 'r--')\n",
    "plt.xlabel(\"thresholds\")\n",
    "plt.ylabel(\"Cost\")\n",
    "plt.show()\n",
    "plt.show()"
   ]
  },
  {
   "cell_type": "code",
   "execution_count": 56,
   "id": "4380e080-34c8-4177-9e3e-e6ee60de83f2",
   "metadata": {},
   "outputs": [
    {
     "data": {
      "text/plain": [
       "array([-1903000., -2347600., -2400400., -2438300., -2485000., -2514900.,\n",
       "       -2535800., -2506000., -2489500., -2475800., -2458300., -2406200.,\n",
       "       -2385700., -2365000., -2320000., -2278100., -2199500., -2168800.,\n",
       "       -2088100., -1848200.,    54400.])"
      ]
     },
     "execution_count": 56,
     "metadata": {},
     "output_type": "execute_result"
    }
   ],
   "source": [
    "Cost_List"
   ]
  },
  {
   "cell_type": "markdown",
   "id": "b828fd04-2f7f-4eda-a530-d1dc5088dee0",
   "metadata": {},
   "source": [
    "### Logistic regression classifier"
   ]
  },
  {
   "cell_type": "code",
   "execution_count": 20,
   "id": "9c016927-1e69-4bdb-bc90-f1ef074e3cf0",
   "metadata": {},
   "outputs": [],
   "source": [
    "## using Grid Search CV\n",
    "model = linear_model.LogisticRegression(solver='lbfgs', multi_class='multinomial')\n",
    "# define evaluation\n",
    "cv = RepeatedStratifiedKFold(n_splits=10, n_repeats=3, random_state=1)\n",
    "# define search space\n",
    "space = dict()\n",
    "space['penalty'] = ['l1', 'l2', 'elasticnet']\n",
    "space['C'] = [1e-5, 1e-4, 1e-3, 1e-2, 1e-1, 1, 10, 100]\n",
    "\n",
    "NUM_TRIALS= 5\n",
    "# Arrays to store scores\n",
    "non_nested_scores = np.zeros(NUM_TRIALS)\n",
    "nested_scores = np.zeros(NUM_TRIALS)\n",
    "\n",
    "# Loop for each trial\n",
    "for i in range(NUM_TRIALS):\n",
    "\n",
    "    inner_cv = RepeatedStratifiedKFold(n_splits=3, n_repeats=3, random_state=i)\n",
    "    outer_cv = RepeatedStratifiedKFold(n_splits=3, n_repeats=3, random_state=i)\n",
    "\n",
    "    # Non_nested parameter search and scoring\n",
    "    clf = GridSearchCV(estimator=model, param_grid=space, cv=inner_cv, scoring='accuracy')\n",
    "    clf.fit(X_train_scaled, y_train)\n",
    "    non_nested_scores[i] = clf.best_score_\n",
    "\n",
    "    # Nested CV with parameter optimization\n",
    "    nested_score = cross_val_score(clf, X=X_train_scaled, y=y_train, cv=outer_cv)\n",
    "    nested_scores[i] = nested_score.mean()"
   ]
  },
  {
   "cell_type": "code",
   "execution_count": 22,
   "id": "bd2d5b16-3d68-4bba-bde0-9bf97f3b763f",
   "metadata": {},
   "outputs": [
    {
     "name": "stdout",
     "output_type": "stream",
     "text": [
      "{'C': 100, 'penalty': 'l2'}\n",
      "Average non_nested_scores 0.920353 and average nested_scores 0.920353.\n",
      "Average difference of 0.000000 with std. dev. of 0.000000.\n"
     ]
    }
   ],
   "source": [
    "### Model performance\n",
    "score_difference = non_nested_scores - nested_scores\n",
    "print(clf.best_params_)\n",
    "print(\"Average non_nested_scores {0:6f} and average nested_scores {1:6f}.\"\n",
    "      .format(non_nested_scores.mean(), nested_scores.mean()))\n",
    "print(\"Average difference of {0:6f} with std. dev. of {1:6f}.\"\n",
    "      .format(score_difference.mean(), score_difference.std()))"
   ]
  },
  {
   "cell_type": "code",
   "execution_count": 23,
   "id": "c06305ba-4207-488b-b889-7c6033d4a940",
   "metadata": {},
   "outputs": [
    {
     "data": {
      "text/plain": [
       "LogisticRegression(C=100, multi_class='multinomial')"
      ]
     },
     "execution_count": 23,
     "metadata": {},
     "output_type": "execute_result"
    }
   ],
   "source": [
    "### Training the model based on hyperparameter tuning by grid search\n",
    "clf3 = linear_model.LogisticRegression(C=100,solver ='lbfgs', multi_class='multinomial',\n",
    "                                       penalty='l2')\n",
    "### using standardized data because using regularization\n",
    "clf3.fit(X_train_scaled, y_train)"
   ]
  },
  {
   "cell_type": "code",
   "execution_count": 24,
   "id": "45ec21ac-f46b-4114-b638-faf51c96d6ea",
   "metadata": {},
   "outputs": [],
   "source": [
    "### Fitting the model on the test data\n",
    "y_test_hat=clf3.predict(X_test_scaled) "
   ]
  },
  {
   "cell_type": "code",
   "execution_count": 25,
   "id": "0222bad6-974f-479a-a70c-0af383121d71",
   "metadata": {},
   "outputs": [
    {
     "name": "stdout",
     "output_type": "stream",
     "text": [
      "Accuracy for the testing dataset with tuning is : 91.92%\n",
      "F-Measure: 0.920\n",
      "Recall: 0.919\n",
      "Precision: 0.921\n",
      "MCC: 0.835\n",
      "Cohen's Kappa Score: 0.833\n",
      "\n",
      "Test confusion_matrix\n",
      "[[744  73]\n",
      " [ 37 507]]\n"
     ]
    },
    {
     "data": {
      "text/plain": [
       "Text(33.0, 0.5, 'True')"
      ]
     },
     "execution_count": 25,
     "metadata": {},
     "output_type": "execute_result"
    },
    {
     "data": {
      "image/png": "[encoded data removed]",
      "text/plain": [
       "<Figure size 432x288 with 2 Axes>"
      ]
     },
     "metadata": {
      "needs_background": "light"
     },
     "output_type": "display_data"
    }
   ],
   "source": [
    "test_accuracy=accuracy_score(y_test,y_test_hat)*100\n",
    "print(\"Accuracy for the testing dataset with tuning is : {:.2f}%\".\n",
    "      format(test_accuracy) )\n",
    "test_fscore = f1_score(y_test, y_test_hat, average='weighted')\n",
    "print('F-Measure: %.3f' % test_fscore)\n",
    "test_recall = recall_score(y_test, y_test_hat, average='weighted')\n",
    "print('Recall: %.3f' % test_recall)\n",
    "test_precision = precision_score(y_test, y_test_hat, average='weighted')\n",
    "print('Precision: %.3f' % test_precision)\n",
    "cf_matrix = confusion_matrix(y_test, y_test_hat)\n",
    "print(\"MCC: %.3f\"% matthews_corrcoef(y_test, y_test_hat))\n",
    "print(\"Cohen's Kappa Score: %.3f\"% cohen_kappa_score(y_test, y_test_hat))\n",
    "print(\"\\nTest confusion_matrix\")\n",
    "print(cf_matrix)\n",
    "sns.heatmap(cf_matrix, cmap='Blues', annot= True)\n",
    "plt.xlabel('Predicted', fontsize=12)\n",
    "plt.ylabel('True', fontsize=12)"
   ]
  },
  {
   "cell_type": "markdown",
   "id": "9dec70a8-a526-464e-988d-24220655e40f",
   "metadata": {},
   "source": [
    "### Cost matrix"
   ]
  },
  {
   "cell_type": "code",
   "execution_count": 52,
   "id": "ca379cd2-edfc-4c9e-a395-cd283da1ed8f",
   "metadata": {},
   "outputs": [
    {
     "data": {
      "text/plain": [
       "Text(0, 0.5, 'Cost')"
      ]
     },
     "execution_count": 52,
     "metadata": {},
     "output_type": "execute_result"
    },
    {
     "data": {
      "image/png": "[encoded data removed]",
      "text/plain": [
       "<Figure size 432x288 with 1 Axes>"
      ]
     },
     "metadata": {
      "needs_background": "light"
     },
     "output_type": "display_data"
    }
   ],
   "source": [
    "## Cost matrix 1\n",
    "predict_probabilities = clf3.predict_proba(X_test_scaled)[:,1] ##get prediction probability of label 1 \n",
    "thresholds = np.linspace(0, 1.0, num=21)\n",
    "Cost_List=np.linspace(0, 1.0, num=21)\n",
    "#input cost matrix\n",
    "cost_matrix = np.array([[0, 1], [1, 0]])\n",
    "index=0\n",
    "\n",
    "for t in thresholds:\n",
    "    predict_thre = np.where(predict_probabilities > t, 1, 0)  ##prediction based on the preset threshold\n",
    "    clf_matrix = confusion_matrix(y_test, predict_thre)\n",
    "    Cost_List[index] = clf_matrix[0][0]*cost_matrix[0][0]+clf_matrix[0][1]*cost_matrix[0][1]+clf_matrix[1][0]*cost_matrix[1][0]+clf_matrix[1][1]*cost_matrix[1][1] ##note this only applies to binary classification\n",
    "    index+=1\n",
    "    \n",
    "plt.figure(1)\n",
    "plt.plot(thresholds, Cost_List, 'r--')\n",
    "plt.xlabel(\"thresholds\")\n",
    "plt.ylabel(\"Cost\")"
   ]
  },
  {
   "cell_type": "code",
   "execution_count": 53,
   "id": "43b3863d-6bb4-4d1f-b1a3-088886473e2c",
   "metadata": {},
   "outputs": [
    {
     "data": {
      "image/png": "[encoded data removed]",
      "text/plain": [
       "<Figure size 432x288 with 1 Axes>"
      ]
     },
     "metadata": {
      "needs_background": "light"
     },
     "output_type": "display_data"
    }
   ],
   "source": [
    "## Cost matrix 2\n",
    "predict_probabilities = clf3.predict_proba(X_test_scaled)[:,1] ##get prediction probability of label 1 \n",
    "thresholds = np.linspace(0, 1.0, num=21)\n",
    "Cost_List=np.linspace(0, 1.0, num=21)\n",
    "#input cost matrix\n",
    "cost_matrix = np.array([[0, 1000], [100, -5000]])\n",
    "index=0\n",
    "\n",
    "for t in thresholds:\n",
    "    predict_thre = np.where(predict_probabilities > t, 1, 0)  ##prediction based on the preset threshold\n",
    "    clf_matrix = confusion_matrix(y_test, predict_thre)\n",
    "    Cost_List[index] = clf_matrix[0][0]*cost_matrix[0][0]+clf_matrix[0][1]*cost_matrix[0][1]+clf_matrix[1][0]*cost_matrix[1][0]+clf_matrix[1][1]*cost_matrix[1][1] ##note this only applies to binary classification\n",
    "    index+=1\n",
    "    \n",
    "plt.figure(1)\n",
    "plt.plot(thresholds, Cost_List, 'r--')\n",
    "plt.xlabel(\"thresholds\")\n",
    "plt.ylabel(\"Cost\")\n",
    "plt.show()\n",
    "plt.show()"
   ]
  },
  {
   "cell_type": "markdown",
   "id": "a9a27e46-95c6-4c54-8d79-bcf52911303b",
   "metadata": {},
   "source": [
    "### SVM classifier"
   ]
  },
  {
   "cell_type": "code",
   "execution_count": 28,
   "id": "d68039a5-9390-438e-87b4-fa60b48f5e21",
   "metadata": {},
   "outputs": [
    {
     "name": "stdout",
     "output_type": "stream",
     "text": [
      "0\n",
      "1\n",
      "2\n",
      "3\n",
      "4\n"
     ]
    }
   ],
   "source": [
    "# Set up possible values of parameters to optimize over\n",
    "p_grid = [{'kernel': ['rbf','poly'], \n",
    "           'gamma': [1e-3, 0.5, 1, 10],\n",
    "           'C': [0.1, 1, 10]}]\n",
    "# Support Vector Classifier\n",
    "model = SVC()\n",
    "NUM_TRIALS= 5\n",
    "# Arrays to store scores\n",
    "non_nested_scores = np.zeros(NUM_TRIALS)\n",
    "nested_scores = np.zeros(NUM_TRIALS)\n",
    "\n",
    "# Loop for each trial\n",
    "for i in range(NUM_TRIALS):\n",
    "\n",
    "    inner_cv = RepeatedStratifiedKFold(n_splits=3, n_repeats=3, random_state=i)\n",
    "    outer_cv = RepeatedStratifiedKFold(n_splits=3, n_repeats=3, random_state=i)\n",
    "\n",
    "    # Non_nested parameter search and scoring\n",
    "    clf = GridSearchCV(estimator=model, param_grid=p_grid, cv=inner_cv, scoring='accuracy')\n",
    "    clf.fit(X_train_scaled, y_train)\n",
    "    non_nested_scores[i] = clf.best_score_\n",
    "\n",
    "    # Nested CV with parameter optimization\n",
    "    nested_score = cross_val_score(clf, X=X_train_scaled, y=y_train, cv=outer_cv)\n",
    "    nested_scores[i] = nested_score.mean()\n",
    "    print(i)"
   ]
  },
  {
   "cell_type": "code",
   "execution_count": 29,
   "id": "ba8814c9-ea7c-4227-af9a-2103bd663587",
   "metadata": {},
   "outputs": [
    {
     "name": "stdout",
     "output_type": "stream",
     "text": [
      "{'C': 10, 'gamma': 1, 'kernel': 'rbf'}\n"
     ]
    }
   ],
   "source": [
    "print(clf.best_params_)"
   ]
  },
  {
   "cell_type": "code",
   "execution_count": 35,
   "id": "7124023e-d77f-43ba-8c5a-c73e602b7050",
   "metadata": {},
   "outputs": [],
   "source": [
    "### Training the model based on hyperparameter tuning by grid search\n",
    "clf_svm = SVC(C=10,\n",
    "              gamma= 1,\n",
    "              kernel= 'rbf',\n",
    "             probability=True)\n",
    "### using standardized data because using regularization\n",
    "clf_svm.fit(X_train_scaled, y_train)\n",
    "\n",
    "### Fitting the model on the test data\n",
    "y_test_hat=clf_svm.predict(X_test_scaled) "
   ]
  },
  {
   "cell_type": "code",
   "execution_count": 36,
   "id": "606b7a26-2b38-414e-b2d4-5810e3e65848",
   "metadata": {},
   "outputs": [
    {
     "name": "stdout",
     "output_type": "stream",
     "text": [
      "Accuracy for the testing dataset with tuning is : 93.09%\n",
      "F-Measure: 0.931\n",
      "Recall: 0.931\n",
      "Precision: 0.931\n",
      "MCC: 0.857\n",
      "Cohen's Kappa Score: 0.857\n",
      "\n",
      "Test confusion_matrix\n",
      "[[764  53]\n",
      " [ 41 503]]\n"
     ]
    },
    {
     "data": {
      "text/plain": [
       "Text(33.0, 0.5, 'True')"
      ]
     },
     "execution_count": 36,
     "metadata": {},
     "output_type": "execute_result"
    },
    {
     "data": {
      "image/png": "[encoded data removed]",
      "text/plain": [
       "<Figure size 432x288 with 2 Axes>"
      ]
     },
     "metadata": {
      "needs_background": "light"
     },
     "output_type": "display_data"
    }
   ],
   "source": [
    "test_accuracy=accuracy_score(y_test,y_test_hat)*100\n",
    "print(\"Accuracy for the testing dataset with tuning is : {:.2f}%\".\n",
    "      format(test_accuracy) )\n",
    "test_fscore = f1_score(y_test, y_test_hat, average='weighted')\n",
    "print('F-Measure: %.3f' % test_fscore)\n",
    "test_recall = recall_score(y_test, y_test_hat, average='weighted')\n",
    "print('Recall: %.3f' % test_recall)\n",
    "test_precision = precision_score(y_test, y_test_hat, average='weighted')\n",
    "print('Precision: %.3f' % test_precision)\n",
    "cf_matrix = confusion_matrix(y_test, y_test_hat)\n",
    "print(\"MCC: %.3f\"% matthews_corrcoef(y_test, y_test_hat))\n",
    "print(\"Cohen's Kappa Score: %.3f\"% cohen_kappa_score(y_test, y_test_hat))\n",
    "print(\"\\nTest confusion_matrix\")\n",
    "print(cf_matrix)\n",
    "sns.heatmap(cf_matrix, cmap='Blues', annot= True)\n",
    "plt.xlabel('Predicted', fontsize=12)\n",
    "plt.ylabel('True', fontsize=12)"
   ]
  },
  {
   "cell_type": "code",
   "execution_count": 46,
   "id": "9b66436e-d6b7-4a79-8d6b-432c6a18a168",
   "metadata": {},
   "outputs": [
    {
     "data": {
      "image/png": "[encoded data removed]",
      "text/plain": [
       "<Figure size 432x288 with 1 Axes>"
      ]
     },
     "metadata": {
      "needs_background": "light"
     },
     "output_type": "display_data"
    }
   ],
   "source": [
    "## Cost matrix 1\n",
    "predict_probabilities = clf_svm.predict_proba(X_test_scaled)[:,1] ##get prediction probability of label 1 \n",
    "thresholds = np.linspace(0, 1.0, num=21)\n",
    "Cost_List=np.linspace(0, 1.0, num=21)\n",
    "#input cost matrix\n",
    "cost_matrix = np.array([[0, 1], [1, 0]])\n",
    "index=0\n",
    "\n",
    "for t in thresholds:\n",
    "    predict_thre = np.where(predict_probabilities > t, 1, 0)  ##prediction based on the preset threshold\n",
    "    clf_matrix = confusion_matrix(y_test, predict_thre)\n",
    "    Cost_List[index] = clf_matrix[0][0]*cost_matrix[0][0]+clf_matrix[0][1]*cost_matrix[0][1]+clf_matrix[1][0]*cost_matrix[1][0]+clf_matrix[1][1]*cost_matrix[1][1] ##note this only applies to binary classification\n",
    "    index+=1\n",
    "    \n",
    "plt.figure(1)\n",
    "plt.plot(thresholds, Cost_List, 'r--')\n",
    "plt.xlabel(\"thresholds\")\n",
    "plt.ylabel(\"Cost\")\n",
    "plt.show()"
   ]
  },
  {
   "cell_type": "code",
   "execution_count": 64,
   "id": "56ac4dea-96b8-4a23-8668-a225278e76f5",
   "metadata": {},
   "outputs": [
    {
     "data": {
      "image/png": "[encoded data removed]",
      "text/plain": [
       "<Figure size 432x288 with 1 Axes>"
      ]
     },
     "metadata": {
      "needs_background": "light"
     },
     "output_type": "display_data"
    }
   ],
   "source": [
    "## Cost matrix 2\n",
    "predict_probabilities = clf_svm.predict_proba(X_test_scaled)[:,1] ##get prediction probability of label 1 \n",
    "thresholds = np.linspace(0, 1.0, num=21)\n",
    "Cost_List=np.linspace(0, 1.0, num=21)\n",
    "#input cost matrix\n",
    "cost_matrix = np.array([[0, 1000], [100, -5000]])\n",
    "index=0\n",
    "\n",
    "for t in thresholds:\n",
    "    predict_thre = np.where(predict_probabilities > t, 1, 0)  ##prediction based on the preset threshold\n",
    "    clf_matrix = confusion_matrix(y_test, predict_thre)\n",
    "    Cost_List[index] = clf_matrix[0][0]*cost_matrix[0][0]+clf_matrix[0][1]*cost_matrix[0][1]+clf_matrix[1][0]*cost_matrix[1][0]+clf_matrix[1][1]*cost_matrix[1][1] ##note this only applies to binary classification\n",
    "    index+=1\n",
    "    \n",
    "plt.figure(1)\n",
    "plt.plot(thresholds, Cost_List, 'r--')\n",
    "plt.xlabel(\"thresholds\")\n",
    "plt.ylabel(\"Cost\")\n",
    "plt.show()"
   ]
  },
  {
   "cell_type": "markdown",
   "id": "20169680-03fa-47c9-8646-3bc434b5fdc9",
   "metadata": {},
   "source": [
    "### Writeup"
   ]
  },
  {
   "cell_type": "code",
   "execution_count": 60,
   "id": "5d220e7f-4f5a-4d78-bb6f-19bae51f4f80",
   "metadata": {},
   "outputs": [],
   "source": [
    "Results_test_data = {\n",
    "    'Model Name':['SVM','Logistic Regression','KNN'],\n",
    "    'Accuracy' : ['93.09%','92.92%','91.92%'],\n",
    "    'F_Score' : ['0.931','0.92','0.92'],\n",
    "    'Recall' : ['0.931','0.919','0.919'],\n",
    "    'Precision' : ['0.931','0.921','0.921'],\n",
    "    'MCC' : ['0.857','0.835','0.835'],\n",
    "    'Cohens Kappa': ['0.857','0.833','0.833']\n",
    "}"
   ]
  },
  {
   "cell_type": "code",
   "execution_count": 61,
   "id": "138a11fa-31c6-4fa1-b755-32261f0e1aa0",
   "metadata": {},
   "outputs": [
    {
     "data": {
      "text/html": [
       "<div><div id=f1f1198d-5bdf-4858-9e48-de13d7bbe3dd style=\"display:none; background-color:#9D6CFF; color:white; width:200px; height:30px; padding-left:5px; border-radius:4px; flex-direction:row; justify-content:space-around; align-items:center;\" onmouseover=\"this.style.backgroundColor='#BA9BF8'\" onmouseout=\"this.style.backgroundColor='#9D6CFF'\" onclick=\"window.commands?.execute('create-mitosheet-from-dataframe-output');\">See Full Dataframe in Mito</div> <script> if (window.commands.hasCommand('create-mitosheet-from-dataframe-output')) document.getElementById('f1f1198d-5bdf-4858-9e48-de13d7bbe3dd').style.display = 'flex' </script> <table border=\"1\" class=\"dataframe\">\n",
       "  <thead>\n",
       "    <tr style=\"text-align: right;\">\n",
       "      <th></th>\n",
       "      <th>Model Name</th>\n",
       "      <th>Accuracy</th>\n",
       "      <th>F_Score</th>\n",
       "      <th>Recall</th>\n",
       "      <th>Precision</th>\n",
       "      <th>MCC</th>\n",
       "      <th>Cohens Kappa</th>\n",
       "    </tr>\n",
       "  </thead>\n",
       "  <tbody>\n",
       "    <tr>\n",
       "      <th>0</th>\n",
       "      <td>SVM</td>\n",
       "      <td>93.09%</td>\n",
       "      <td>0.931</td>\n",
       "      <td>0.931</td>\n",
       "      <td>0.931</td>\n",
       "      <td>0.857</td>\n",
       "      <td>0.857</td>\n",
       "    </tr>\n",
       "    <tr>\n",
       "      <th>1</th>\n",
       "      <td>Logistic Regression</td>\n",
       "      <td>92.92%</td>\n",
       "      <td>0.92</td>\n",
       "      <td>0.919</td>\n",
       "      <td>0.921</td>\n",
       "      <td>0.835</td>\n",
       "      <td>0.833</td>\n",
       "    </tr>\n",
       "    <tr>\n",
       "      <th>2</th>\n",
       "      <td>KNN</td>\n",
       "      <td>91.92%</td>\n",
       "      <td>0.92</td>\n",
       "      <td>0.919</td>\n",
       "      <td>0.921</td>\n",
       "      <td>0.835</td>\n",
       "      <td>0.833</td>\n",
       "    </tr>\n",
       "  </tbody>\n",
       "</table></div>"
      ],
      "text/plain": [
       "            Model Name Accuracy F_Score Recall Precision    MCC Cohens Kappa\n",
       "0                  SVM   93.09%   0.931  0.931     0.931  0.857        0.857\n",
       "1  Logistic Regression   92.92%    0.92  0.919     0.921  0.835        0.833\n",
       "2                  KNN   91.92%    0.92  0.919     0.921  0.835        0.833"
      ]
     },
     "execution_count": 61,
     "metadata": {},
     "output_type": "execute_result"
    }
   ],
   "source": [
    "test_data_perf = pd.DataFrame(Results_test_data)\n",
    "test_data_perf"
   ]
  },
  {
   "cell_type": "markdown",
   "id": "e6a4ebe6-51c3-4a2a-a0ce-10841b46b7fd",
   "metadata": {},
   "source": [
    "Model Performance based:\n",
    "The best performance is achieved by SVM classifier out of Logistic Regression, KNN and SVM classifiers\n",
    "that were tried. Not only, it has hugher base metrics like accuracy, precision, fscore.\n",
    "But, it also has higher MCC & kappa. This signifies that it has better, effectively\n",
    "distinguishable performance for the imbalanced classes."
   ]
  },
  {
   "cell_type": "markdown",
   "id": "cc28c378-4d1c-4ba5-95d5-170cf10abcc5",
   "metadata": {},
   "source": [
    "Cost analysis based:\n",
    "For the cost analysis, the minimal costs come up for 3 values at different thresholds.\n",
    "For the KNN classifier, the threshold should be 0.2 to achieve minimum cost\n",
    "For, Logistic and SVM classifiers, it should be 0.3\n",
    "Logistic and SVM have pretty similar performances pertaining to cost.\n",
    "This is also because they have similar performance.\n",
    "The cost matrix has been designed in such a way that for every correctly identified spam,\n",
    "the company is able to save USD5000 and for every incorrect identification of \n",
    "a correct mail, the company loses USD1000, or that is the cost company has to bear.\n",
    "For every spam that is not identified, the company loses USD100"
   ]
  },
  {
   "cell_type": "markdown",
   "id": "7c1b7b89-8cb4-45c1-8fb1-3b1f55e9a6f0",
   "metadata": {},
   "source": [
    "Based on the above statements and analysis on both cost and model performance, a SVM classifier should\n",
    "be chosen as it would render best results in terms of both."
   ]
  },
  {
   "cell_type": "code",
   "execution_count": null,
   "id": "c3f7b4f6-9f37-4ffc-a95c-531fe0c9e43e",
   "metadata": {},
   "outputs": [],
   "source": []
  },
  {
   "cell_type": "code",
   "execution_count": null,
   "id": "b0147512-da15-4bd0-a342-ddb08c3d2d8a",
   "metadata": {},
   "outputs": [],
   "source": []
  },
  {
   "cell_type": "code",
   "execution_count": null,
   "id": "3f2c5b39-243e-4c7f-b3db-9a71ae9bc841",
   "metadata": {},
   "outputs": [],
   "source": []
  },
  {
   "cell_type": "code",
   "execution_count": null,
   "id": "f9bd659f-cd1d-4f42-9bbc-ac6e9901bc58",
   "metadata": {},
   "outputs": [],
   "source": []
  },
  {
   "cell_type": "code",
   "execution_count": null,
   "id": "b5aee7da-b78d-4d58-baf3-be4581c2b760",
   "metadata": {},
   "outputs": [],
   "source": []
  },
  {
   "cell_type": "code",
   "execution_count": null,
   "id": "eb3d8595-0afe-431f-8539-004faf4c2285",
   "metadata": {},
   "outputs": [],
   "source": []
  }
 ],
 "metadata": {
  "kernelspec": {
   "display_name": "Python 3 (ipykernel)",
   "language": "python",
   "name": "python3"
  },
  "language_info": {
   "codemirror_mode": {
    "name": "ipython",
    "version": 3
   },
   "file_extension": ".py",
   "mimetype": "text/x-python",
   "name": "python",
   "nbconvert_exporter": "python",
   "pygments_lexer": "ipython3",
   "version": "3.8.8"
  }
 },
 "nbformat": 4,
 "nbformat_minor": 5
}
